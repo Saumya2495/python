{
  "nbformat": 4,
  "nbformat_minor": 0,
  "metadata": {
    "colab": {
      "name": "Python_practice1.ipynb",
      "provenance": [],
      "collapsed_sections": [],
      "include_colab_link": true
    },
    "kernelspec": {
      "name": "python3",
      "display_name": "Python 3"
    }
  },
  "cells": [
    {
      "cell_type": "markdown",
      "metadata": {
        "id": "view-in-github",
        "colab_type": "text"
      },
      "source": [
        "<a href=\"https://colab.research.google.com/gist/Saumya2495/b9a1acb4ac38f1ac2ecbc1713d103887/python_practice1.ipynb\" target=\"_parent\"><img src=\"https://colab.research.google.com/assets/colab-badge.svg\" alt=\"Open In Colab\"/></a>"
      ]
    },
    {
      "cell_type": "markdown",
      "metadata": {
        "id": "4jFbKL0nHdyo"
      },
      "source": [
        "Read in data\n",
        "------------\n",
        "\n",
        "Visit Google’s web page for the [COVID-19 Community\n",
        "Mobility](https://www.google.com/covid19/mobility/) project to get the\n",
        "URL for the data."
      ]
    },
    {
      "cell_type": "code",
      "metadata": {
        "id": "hOcSuD6iHdyp"
      },
      "source": [
        "import pandas as pd\n",
        "import seaborn as sns\n",
        "import matplotlib.pyplot as plt"
      ],
      "execution_count": 1,
      "outputs": []
    },
    {
      "cell_type": "code",
      "metadata": {
        "id": "fkF2oSHgHdy1",
        "colab": {
          "base_uri": "https://localhost:8080/"
        },
        "outputId": "c1e65ca1-93ec-486c-c6e1-8895aa04663f"
      },
      "source": [
        "\n",
        "url = 'https://www.gstatic.com/covid19/mobility/Global_Mobility_Report.csv?cachebust=694ae9957380f150'\n",
        "df = pd.read_csv(url)"
      ],
      "execution_count": 2,
      "outputs": [
        {
          "output_type": "stream",
          "text": [
            "/usr/local/lib/python3.6/dist-packages/IPython/core/interactiveshell.py:2718: DtypeWarning: Columns (4) have mixed types.Specify dtype option on import or set low_memory=False.\n",
            "  interactivity=interactivity, compiler=compiler, result=result)\n"
          ],
          "name": "stderr"
        }
      ]
    },
    {
      "cell_type": "code",
      "metadata": {
        "id": "rqohsQVXHdy8",
        "colab": {
          "base_uri": "https://localhost:8080/"
        },
        "outputId": "f4180f1f-4e5f-4dd0-8734-209828117e0a"
      },
      "source": [
        "\n",
        "df.info()"
      ],
      "execution_count": 3,
      "outputs": [
        {
          "output_type": "stream",
          "text": [
            "<class 'pandas.core.frame.DataFrame'>\n",
            "RangeIndex: 3468548 entries, 0 to 3468547\n",
            "Data columns (total 14 columns):\n",
            " #   Column                                              Dtype  \n",
            "---  ------                                              -----  \n",
            " 0   country_region_code                                 object \n",
            " 1   country_region                                      object \n",
            " 2   sub_region_1                                        object \n",
            " 3   sub_region_2                                        object \n",
            " 4   metro_area                                          object \n",
            " 5   iso_3166_2_code                                     object \n",
            " 6   census_fips_code                                    float64\n",
            " 7   date                                                object \n",
            " 8   retail_and_recreation_percent_change_from_baseline  float64\n",
            " 9   grocery_and_pharmacy_percent_change_from_baseline   float64\n",
            " 10  parks_percent_change_from_baseline                  float64\n",
            " 11  transit_stations_percent_change_from_baseline       float64\n",
            " 12  workplaces_percent_change_from_baseline             float64\n",
            " 13  residential_percent_change_from_baseline            float64\n",
            "dtypes: float64(7), object(7)\n",
            "memory usage: 370.5+ MB\n"
          ],
          "name": "stdout"
        }
      ]
    },
    {
      "cell_type": "code",
      "metadata": {
        "id": "ElWKCwpbHdzA",
        "colab": {
          "base_uri": "https://localhost:8080/",
          "height": 299
        },
        "outputId": "e583a4e9-734d-44fc-e555-dddc1915ddd8"
      },
      "source": [
        "\n",
        "df.head()"
      ],
      "execution_count": 4,
      "outputs": [
        {
          "output_type": "execute_result",
          "data": {
            "text/html": [
              "<div>\n",
              "<style scoped>\n",
              "    .dataframe tbody tr th:only-of-type {\n",
              "        vertical-align: middle;\n",
              "    }\n",
              "\n",
              "    .dataframe tbody tr th {\n",
              "        vertical-align: top;\n",
              "    }\n",
              "\n",
              "    .dataframe thead th {\n",
              "        text-align: right;\n",
              "    }\n",
              "</style>\n",
              "<table border=\"1\" class=\"dataframe\">\n",
              "  <thead>\n",
              "    <tr style=\"text-align: right;\">\n",
              "      <th></th>\n",
              "      <th>country_region_code</th>\n",
              "      <th>country_region</th>\n",
              "      <th>sub_region_1</th>\n",
              "      <th>sub_region_2</th>\n",
              "      <th>metro_area</th>\n",
              "      <th>iso_3166_2_code</th>\n",
              "      <th>census_fips_code</th>\n",
              "      <th>date</th>\n",
              "      <th>retail_and_recreation_percent_change_from_baseline</th>\n",
              "      <th>grocery_and_pharmacy_percent_change_from_baseline</th>\n",
              "      <th>parks_percent_change_from_baseline</th>\n",
              "      <th>transit_stations_percent_change_from_baseline</th>\n",
              "      <th>workplaces_percent_change_from_baseline</th>\n",
              "      <th>residential_percent_change_from_baseline</th>\n",
              "    </tr>\n",
              "  </thead>\n",
              "  <tbody>\n",
              "    <tr>\n",
              "      <th>0</th>\n",
              "      <td>AE</td>\n",
              "      <td>United Arab Emirates</td>\n",
              "      <td>NaN</td>\n",
              "      <td>NaN</td>\n",
              "      <td>NaN</td>\n",
              "      <td>NaN</td>\n",
              "      <td>NaN</td>\n",
              "      <td>2020-02-15</td>\n",
              "      <td>0.0</td>\n",
              "      <td>4.0</td>\n",
              "      <td>5.0</td>\n",
              "      <td>0.0</td>\n",
              "      <td>2.0</td>\n",
              "      <td>1.0</td>\n",
              "    </tr>\n",
              "    <tr>\n",
              "      <th>1</th>\n",
              "      <td>AE</td>\n",
              "      <td>United Arab Emirates</td>\n",
              "      <td>NaN</td>\n",
              "      <td>NaN</td>\n",
              "      <td>NaN</td>\n",
              "      <td>NaN</td>\n",
              "      <td>NaN</td>\n",
              "      <td>2020-02-16</td>\n",
              "      <td>1.0</td>\n",
              "      <td>4.0</td>\n",
              "      <td>4.0</td>\n",
              "      <td>1.0</td>\n",
              "      <td>2.0</td>\n",
              "      <td>1.0</td>\n",
              "    </tr>\n",
              "    <tr>\n",
              "      <th>2</th>\n",
              "      <td>AE</td>\n",
              "      <td>United Arab Emirates</td>\n",
              "      <td>NaN</td>\n",
              "      <td>NaN</td>\n",
              "      <td>NaN</td>\n",
              "      <td>NaN</td>\n",
              "      <td>NaN</td>\n",
              "      <td>2020-02-17</td>\n",
              "      <td>-1.0</td>\n",
              "      <td>1.0</td>\n",
              "      <td>5.0</td>\n",
              "      <td>1.0</td>\n",
              "      <td>2.0</td>\n",
              "      <td>1.0</td>\n",
              "    </tr>\n",
              "    <tr>\n",
              "      <th>3</th>\n",
              "      <td>AE</td>\n",
              "      <td>United Arab Emirates</td>\n",
              "      <td>NaN</td>\n",
              "      <td>NaN</td>\n",
              "      <td>NaN</td>\n",
              "      <td>NaN</td>\n",
              "      <td>NaN</td>\n",
              "      <td>2020-02-18</td>\n",
              "      <td>-2.0</td>\n",
              "      <td>1.0</td>\n",
              "      <td>5.0</td>\n",
              "      <td>0.0</td>\n",
              "      <td>2.0</td>\n",
              "      <td>1.0</td>\n",
              "    </tr>\n",
              "    <tr>\n",
              "      <th>4</th>\n",
              "      <td>AE</td>\n",
              "      <td>United Arab Emirates</td>\n",
              "      <td>NaN</td>\n",
              "      <td>NaN</td>\n",
              "      <td>NaN</td>\n",
              "      <td>NaN</td>\n",
              "      <td>NaN</td>\n",
              "      <td>2020-02-19</td>\n",
              "      <td>-2.0</td>\n",
              "      <td>0.0</td>\n",
              "      <td>4.0</td>\n",
              "      <td>-1.0</td>\n",
              "      <td>2.0</td>\n",
              "      <td>1.0</td>\n",
              "    </tr>\n",
              "  </tbody>\n",
              "</table>\n",
              "</div>"
            ],
            "text/plain": [
              "  country_region_code  ... residential_percent_change_from_baseline\n",
              "0                  AE  ...                                      1.0\n",
              "1                  AE  ...                                      1.0\n",
              "2                  AE  ...                                      1.0\n",
              "3                  AE  ...                                      1.0\n",
              "4                  AE  ...                                      1.0\n",
              "\n",
              "[5 rows x 14 columns]"
            ]
          },
          "metadata": {
            "tags": []
          },
          "execution_count": 4
        }
      ]
    },
    {
      "cell_type": "code",
      "metadata": {
        "id": "4TIu2dTyUt2c",
        "colab": {
          "base_uri": "https://localhost:8080/",
          "height": 304
        },
        "outputId": "0d06d638-1e0a-4f8d-964f-c0bfe9c0914b"
      },
      "source": [
        "df.describe()"
      ],
      "execution_count": 5,
      "outputs": [
        {
          "output_type": "execute_result",
          "data": {
            "text/html": [
              "<div>\n",
              "<style scoped>\n",
              "    .dataframe tbody tr th:only-of-type {\n",
              "        vertical-align: middle;\n",
              "    }\n",
              "\n",
              "    .dataframe tbody tr th {\n",
              "        vertical-align: top;\n",
              "    }\n",
              "\n",
              "    .dataframe thead th {\n",
              "        text-align: right;\n",
              "    }\n",
              "</style>\n",
              "<table border=\"1\" class=\"dataframe\">\n",
              "  <thead>\n",
              "    <tr style=\"text-align: right;\">\n",
              "      <th></th>\n",
              "      <th>census_fips_code</th>\n",
              "      <th>retail_and_recreation_percent_change_from_baseline</th>\n",
              "      <th>grocery_and_pharmacy_percent_change_from_baseline</th>\n",
              "      <th>parks_percent_change_from_baseline</th>\n",
              "      <th>transit_stations_percent_change_from_baseline</th>\n",
              "      <th>workplaces_percent_change_from_baseline</th>\n",
              "      <th>residential_percent_change_from_baseline</th>\n",
              "    </tr>\n",
              "  </thead>\n",
              "  <tbody>\n",
              "    <tr>\n",
              "      <th>count</th>\n",
              "      <td>744534.000000</td>\n",
              "      <td>2.195096e+06</td>\n",
              "      <td>2.122715e+06</td>\n",
              "      <td>1.654072e+06</td>\n",
              "      <td>1.756660e+06</td>\n",
              "      <td>3.291646e+06</td>\n",
              "      <td>1.990001e+06</td>\n",
              "    </tr>\n",
              "    <tr>\n",
              "      <th>mean</th>\n",
              "      <td>30358.557551</td>\n",
              "      <td>-2.297236e+01</td>\n",
              "      <td>-3.403261e+00</td>\n",
              "      <td>-8.715213e+00</td>\n",
              "      <td>-2.700905e+01</td>\n",
              "      <td>-1.962572e+01</td>\n",
              "      <td>9.160184e+00</td>\n",
              "    </tr>\n",
              "    <tr>\n",
              "      <th>std</th>\n",
              "      <td>15298.583381</td>\n",
              "      <td>2.843911e+01</td>\n",
              "      <td>2.400672e+01</td>\n",
              "      <td>5.778901e+01</td>\n",
              "      <td>3.026930e+01</td>\n",
              "      <td>2.020344e+01</td>\n",
              "      <td>8.083940e+00</td>\n",
              "    </tr>\n",
              "    <tr>\n",
              "      <th>min</th>\n",
              "      <td>1001.000000</td>\n",
              "      <td>-1.000000e+02</td>\n",
              "      <td>-1.000000e+02</td>\n",
              "      <td>-1.000000e+02</td>\n",
              "      <td>-1.000000e+02</td>\n",
              "      <td>-1.000000e+02</td>\n",
              "      <td>-4.600000e+01</td>\n",
              "    </tr>\n",
              "    <tr>\n",
              "      <th>25%</th>\n",
              "      <td>18105.000000</td>\n",
              "      <td>-4.100000e+01</td>\n",
              "      <td>-1.400000e+01</td>\n",
              "      <td>-4.500000e+01</td>\n",
              "      <td>-4.800000e+01</td>\n",
              "      <td>-3.200000e+01</td>\n",
              "      <td>3.000000e+00</td>\n",
              "    </tr>\n",
              "    <tr>\n",
              "      <th>50%</th>\n",
              "      <td>29115.000000</td>\n",
              "      <td>-1.900000e+01</td>\n",
              "      <td>-2.000000e+00</td>\n",
              "      <td>-1.700000e+01</td>\n",
              "      <td>-2.800000e+01</td>\n",
              "      <td>-1.900000e+01</td>\n",
              "      <td>8.000000e+00</td>\n",
              "    </tr>\n",
              "    <tr>\n",
              "      <th>75%</th>\n",
              "      <td>45051.000000</td>\n",
              "      <td>-3.000000e+00</td>\n",
              "      <td>8.000000e+00</td>\n",
              "      <td>1.300000e+01</td>\n",
              "      <td>-7.000000e+00</td>\n",
              "      <td>-5.000000e+00</td>\n",
              "      <td>1.400000e+01</td>\n",
              "    </tr>\n",
              "    <tr>\n",
              "      <th>max</th>\n",
              "      <td>56045.000000</td>\n",
              "      <td>5.450000e+02</td>\n",
              "      <td>6.150000e+02</td>\n",
              "      <td>1.206000e+03</td>\n",
              "      <td>5.240000e+02</td>\n",
              "      <td>2.600000e+02</td>\n",
              "      <td>6.300000e+01</td>\n",
              "    </tr>\n",
              "  </tbody>\n",
              "</table>\n",
              "</div>"
            ],
            "text/plain": [
              "       census_fips_code  ...  residential_percent_change_from_baseline\n",
              "count     744534.000000  ...                              1.990001e+06\n",
              "mean       30358.557551  ...                              9.160184e+00\n",
              "std        15298.583381  ...                              8.083940e+00\n",
              "min         1001.000000  ...                             -4.600000e+01\n",
              "25%        18105.000000  ...                              3.000000e+00\n",
              "50%        29115.000000  ...                              8.000000e+00\n",
              "75%        45051.000000  ...                              1.400000e+01\n",
              "max        56045.000000  ...                              6.300000e+01\n",
              "\n",
              "[8 rows x 7 columns]"
            ]
          },
          "metadata": {
            "tags": []
          },
          "execution_count": 5
        }
      ]
    },
    {
      "cell_type": "markdown",
      "metadata": {
        "id": "OkYuMZgTHdzG"
      },
      "source": [
        "Basic data manipulations\n",
        "------------------------"
      ]
    },
    {
      "cell_type": "code",
      "metadata": {
        "id": "Ajf1qRN_HdzH",
        "colab": {
          "base_uri": "https://localhost:8080/"
        },
        "outputId": "b6947cb6-fc04-470a-9415-0e12f5db2c16"
      },
      "source": [
        "\n",
        "df['date'] = pd.to_datetime(df['date'])\n",
        "df['day_name'] = df['date'].dt.day_name()\n",
        "df.info()"
      ],
      "execution_count": 6,
      "outputs": [
        {
          "output_type": "stream",
          "text": [
            "<class 'pandas.core.frame.DataFrame'>\n",
            "RangeIndex: 3468548 entries, 0 to 3468547\n",
            "Data columns (total 15 columns):\n",
            " #   Column                                              Dtype         \n",
            "---  ------                                              -----         \n",
            " 0   country_region_code                                 object        \n",
            " 1   country_region                                      object        \n",
            " 2   sub_region_1                                        object        \n",
            " 3   sub_region_2                                        object        \n",
            " 4   metro_area                                          object        \n",
            " 5   iso_3166_2_code                                     object        \n",
            " 6   census_fips_code                                    float64       \n",
            " 7   date                                                datetime64[ns]\n",
            " 8   retail_and_recreation_percent_change_from_baseline  float64       \n",
            " 9   grocery_and_pharmacy_percent_change_from_baseline   float64       \n",
            " 10  parks_percent_change_from_baseline                  float64       \n",
            " 11  transit_stations_percent_change_from_baseline       float64       \n",
            " 12  workplaces_percent_change_from_baseline             float64       \n",
            " 13  residential_percent_change_from_baseline            float64       \n",
            " 14  day_name                                            object        \n",
            "dtypes: datetime64[ns](1), float64(7), object(7)\n",
            "memory usage: 396.9+ MB\n"
          ],
          "name": "stdout"
        }
      ]
    },
    {
      "cell_type": "code",
      "metadata": {
        "id": "0yn8z1zRHdzO",
        "colab": {
          "base_uri": "https://localhost:8080/",
          "height": 299
        },
        "outputId": "78a28927-6956-44f5-ff87-d4a00af5c4ab"
      },
      "source": [
        "\n",
        "df_subset = df[(df['country_region'].eq(\"India\")) & (df['sub_region_1'].eq(\"Maharashtra\")) & (df['sub_region_2'].isnull())]\n",
        "df_subset.head()\n"
      ],
      "execution_count": 7,
      "outputs": [
        {
          "output_type": "execute_result",
          "data": {
            "text/html": [
              "<div>\n",
              "<style scoped>\n",
              "    .dataframe tbody tr th:only-of-type {\n",
              "        vertical-align: middle;\n",
              "    }\n",
              "\n",
              "    .dataframe tbody tr th {\n",
              "        vertical-align: top;\n",
              "    }\n",
              "\n",
              "    .dataframe thead th {\n",
              "        text-align: right;\n",
              "    }\n",
              "</style>\n",
              "<table border=\"1\" class=\"dataframe\">\n",
              "  <thead>\n",
              "    <tr style=\"text-align: right;\">\n",
              "      <th></th>\n",
              "      <th>country_region_code</th>\n",
              "      <th>country_region</th>\n",
              "      <th>sub_region_1</th>\n",
              "      <th>sub_region_2</th>\n",
              "      <th>metro_area</th>\n",
              "      <th>iso_3166_2_code</th>\n",
              "      <th>census_fips_code</th>\n",
              "      <th>date</th>\n",
              "      <th>retail_and_recreation_percent_change_from_baseline</th>\n",
              "      <th>grocery_and_pharmacy_percent_change_from_baseline</th>\n",
              "      <th>parks_percent_change_from_baseline</th>\n",
              "      <th>transit_stations_percent_change_from_baseline</th>\n",
              "      <th>workplaces_percent_change_from_baseline</th>\n",
              "      <th>residential_percent_change_from_baseline</th>\n",
              "      <th>day_name</th>\n",
              "    </tr>\n",
              "  </thead>\n",
              "  <tbody>\n",
              "    <tr>\n",
              "      <th>1566127</th>\n",
              "      <td>IN</td>\n",
              "      <td>India</td>\n",
              "      <td>Maharashtra</td>\n",
              "      <td>NaN</td>\n",
              "      <td>NaN</td>\n",
              "      <td>IN-MH</td>\n",
              "      <td>NaN</td>\n",
              "      <td>2020-02-15</td>\n",
              "      <td>-3.0</td>\n",
              "      <td>-1.0</td>\n",
              "      <td>2.0</td>\n",
              "      <td>3.0</td>\n",
              "      <td>2.0</td>\n",
              "      <td>0.0</td>\n",
              "      <td>Saturday</td>\n",
              "    </tr>\n",
              "    <tr>\n",
              "      <th>1566128</th>\n",
              "      <td>IN</td>\n",
              "      <td>India</td>\n",
              "      <td>Maharashtra</td>\n",
              "      <td>NaN</td>\n",
              "      <td>NaN</td>\n",
              "      <td>IN-MH</td>\n",
              "      <td>NaN</td>\n",
              "      <td>2020-02-16</td>\n",
              "      <td>0.0</td>\n",
              "      <td>-1.0</td>\n",
              "      <td>1.0</td>\n",
              "      <td>2.0</td>\n",
              "      <td>0.0</td>\n",
              "      <td>0.0</td>\n",
              "      <td>Sunday</td>\n",
              "    </tr>\n",
              "    <tr>\n",
              "      <th>1566129</th>\n",
              "      <td>IN</td>\n",
              "      <td>India</td>\n",
              "      <td>Maharashtra</td>\n",
              "      <td>NaN</td>\n",
              "      <td>NaN</td>\n",
              "      <td>IN-MH</td>\n",
              "      <td>NaN</td>\n",
              "      <td>2020-02-17</td>\n",
              "      <td>-2.0</td>\n",
              "      <td>0.0</td>\n",
              "      <td>0.0</td>\n",
              "      <td>0.0</td>\n",
              "      <td>1.0</td>\n",
              "      <td>1.0</td>\n",
              "      <td>Monday</td>\n",
              "    </tr>\n",
              "    <tr>\n",
              "      <th>1566130</th>\n",
              "      <td>IN</td>\n",
              "      <td>India</td>\n",
              "      <td>Maharashtra</td>\n",
              "      <td>NaN</td>\n",
              "      <td>NaN</td>\n",
              "      <td>IN-MH</td>\n",
              "      <td>NaN</td>\n",
              "      <td>2020-02-18</td>\n",
              "      <td>0.0</td>\n",
              "      <td>1.0</td>\n",
              "      <td>1.0</td>\n",
              "      <td>2.0</td>\n",
              "      <td>1.0</td>\n",
              "      <td>0.0</td>\n",
              "      <td>Tuesday</td>\n",
              "    </tr>\n",
              "    <tr>\n",
              "      <th>1566131</th>\n",
              "      <td>IN</td>\n",
              "      <td>India</td>\n",
              "      <td>Maharashtra</td>\n",
              "      <td>NaN</td>\n",
              "      <td>NaN</td>\n",
              "      <td>IN-MH</td>\n",
              "      <td>NaN</td>\n",
              "      <td>2020-02-19</td>\n",
              "      <td>-1.0</td>\n",
              "      <td>-1.0</td>\n",
              "      <td>7.0</td>\n",
              "      <td>-3.0</td>\n",
              "      <td>-12.0</td>\n",
              "      <td>3.0</td>\n",
              "      <td>Wednesday</td>\n",
              "    </tr>\n",
              "  </tbody>\n",
              "</table>\n",
              "</div>"
            ],
            "text/plain": [
              "        country_region_code  ...   day_name\n",
              "1566127                  IN  ...   Saturday\n",
              "1566128                  IN  ...     Sunday\n",
              "1566129                  IN  ...     Monday\n",
              "1566130                  IN  ...    Tuesday\n",
              "1566131                  IN  ...  Wednesday\n",
              "\n",
              "[5 rows x 15 columns]"
            ]
          },
          "metadata": {
            "tags": []
          },
          "execution_count": 7
        }
      ]
    },
    {
      "cell_type": "code",
      "metadata": {
        "id": "--n36N4XmRLt",
        "colab": {
          "base_uri": "https://localhost:8080/"
        },
        "outputId": "e3826f2c-476f-459e-bbd5-c19f5d01904d"
      },
      "source": [
        "\n",
        "df_subset.isnull().sum() #no null values in percent_change_from_baseline fields"
      ],
      "execution_count": 8,
      "outputs": [
        {
          "output_type": "execute_result",
          "data": {
            "text/plain": [
              "country_region_code                                     0\n",
              "country_region                                          0\n",
              "sub_region_1                                            0\n",
              "sub_region_2                                          301\n",
              "metro_area                                            301\n",
              "iso_3166_2_code                                         0\n",
              "census_fips_code                                      301\n",
              "date                                                    0\n",
              "retail_and_recreation_percent_change_from_baseline      0\n",
              "grocery_and_pharmacy_percent_change_from_baseline       0\n",
              "parks_percent_change_from_baseline                      0\n",
              "transit_stations_percent_change_from_baseline           0\n",
              "workplaces_percent_change_from_baseline                 0\n",
              "residential_percent_change_from_baseline                0\n",
              "day_name                                                0\n",
              "dtype: int64"
            ]
          },
          "metadata": {
            "tags": []
          },
          "execution_count": 8
        }
      ]
    },
    {
      "cell_type": "code",
      "metadata": {
        "id": "b615eHkYHdzX",
        "colab": {
          "base_uri": "https://localhost:8080/"
        },
        "outputId": "9e60f3e7-1491-4b11-abd3-e28c2c5e948f"
      },
      "source": [
        "df_subset.isnull().sum() #no null values in percent_change_from_baseline fields\n",
        "df_subset = df_subset.sort_values(by='date')\n",
        "df_subset.info()"
      ],
      "execution_count": 9,
      "outputs": [
        {
          "output_type": "stream",
          "text": [
            "<class 'pandas.core.frame.DataFrame'>\n",
            "Int64Index: 301 entries, 1566127 to 1566427\n",
            "Data columns (total 15 columns):\n",
            " #   Column                                              Non-Null Count  Dtype         \n",
            "---  ------                                              --------------  -----         \n",
            " 0   country_region_code                                 301 non-null    object        \n",
            " 1   country_region                                      301 non-null    object        \n",
            " 2   sub_region_1                                        301 non-null    object        \n",
            " 3   sub_region_2                                        0 non-null      object        \n",
            " 4   metro_area                                          0 non-null      object        \n",
            " 5   iso_3166_2_code                                     301 non-null    object        \n",
            " 6   census_fips_code                                    0 non-null      float64       \n",
            " 7   date                                                301 non-null    datetime64[ns]\n",
            " 8   retail_and_recreation_percent_change_from_baseline  301 non-null    float64       \n",
            " 9   grocery_and_pharmacy_percent_change_from_baseline   301 non-null    float64       \n",
            " 10  parks_percent_change_from_baseline                  301 non-null    float64       \n",
            " 11  transit_stations_percent_change_from_baseline       301 non-null    float64       \n",
            " 12  workplaces_percent_change_from_baseline             301 non-null    float64       \n",
            " 13  residential_percent_change_from_baseline            301 non-null    float64       \n",
            " 14  day_name                                            301 non-null    object        \n",
            "dtypes: datetime64[ns](1), float64(7), object(7)\n",
            "memory usage: 37.6+ KB\n"
          ],
          "name": "stdout"
        }
      ]
    },
    {
      "cell_type": "code",
      "metadata": {
        "id": "Gkye0BxdhzBz",
        "colab": {
          "base_uri": "https://localhost:8080/"
        },
        "outputId": "506bb993-fe79-4063-ba5c-7b2692f9d172"
      },
      "source": [
        "min_dt = df.date.min() #considering the date ranges from global dataset\n",
        "max_dt = df.date.max() #considering the date ranges from global dataset\n",
        "print(min_dt)\n",
        "print(max_dt)"
      ],
      "execution_count": 10,
      "outputs": [
        {
          "output_type": "stream",
          "text": [
            "2020-02-15 00:00:00\n",
            "2020-12-11 00:00:00\n"
          ],
          "name": "stdout"
        }
      ]
    },
    {
      "cell_type": "code",
      "metadata": {
        "id": "PaxI0w4GexN4",
        "colab": {
          "base_uri": "https://localhost:8080/"
        },
        "outputId": "39a6cc01-5986-4f86-cf30-4383e8ecd0ae"
      },
      "source": [
        "expected_range = pd.date_range(start = min_dt, end = max_dt, freq='D' )\n",
        "print(expected_range)\n",
        "missing_days = expected_range.difference(df_subset['date'])\n",
        "print(missing_days) #so no missing dates"
      ],
      "execution_count": 11,
      "outputs": [
        {
          "output_type": "stream",
          "text": [
            "DatetimeIndex(['2020-02-15', '2020-02-16', '2020-02-17', '2020-02-18',\n",
            "               '2020-02-19', '2020-02-20', '2020-02-21', '2020-02-22',\n",
            "               '2020-02-23', '2020-02-24',\n",
            "               ...\n",
            "               '2020-12-02', '2020-12-03', '2020-12-04', '2020-12-05',\n",
            "               '2020-12-06', '2020-12-07', '2020-12-08', '2020-12-09',\n",
            "               '2020-12-10', '2020-12-11'],\n",
            "              dtype='datetime64[ns]', length=301, freq='D')\n",
            "DatetimeIndex([], dtype='datetime64[ns]', freq=None)\n"
          ],
          "name": "stdout"
        }
      ]
    },
    {
      "cell_type": "code",
      "metadata": {
        "id": "npWvLpioHdzd",
        "colab": {
          "base_uri": "https://localhost:8080/"
        },
        "outputId": "168d1148-5163-4996-d2d0-ffc23380ce05"
      },
      "source": [
        "# India lockdown March 25, 2020 https://en.wikipedia.org/wiki/COVID-19_pandemic_lockdown_in_India\n",
        "df_subset = df_subset[(df_subset['date'] >= pd.to_datetime('2020-03-25 00:00:00'))]\n",
        "days_since_lockdown = (df_subset['date'] - pd.to_datetime('2020-03-25 00:00:00')).dt.days.values\n",
        "days_since_lockdown"
      ],
      "execution_count": 12,
      "outputs": [
        {
          "output_type": "execute_result",
          "data": {
            "text/plain": [
              "array([  0,   1,   2,   3,   4,   5,   6,   7,   8,   9,  10,  11,  12,\n",
              "        13,  14,  15,  16,  17,  18,  19,  20,  21,  22,  23,  24,  25,\n",
              "        26,  27,  28,  29,  30,  31,  32,  33,  34,  35,  36,  37,  38,\n",
              "        39,  40,  41,  42,  43,  44,  45,  46,  47,  48,  49,  50,  51,\n",
              "        52,  53,  54,  55,  56,  57,  58,  59,  60,  61,  62,  63,  64,\n",
              "        65,  66,  67,  68,  69,  70,  71,  72,  73,  74,  75,  76,  77,\n",
              "        78,  79,  80,  81,  82,  83,  84,  85,  86,  87,  88,  89,  90,\n",
              "        91,  92,  93,  94,  95,  96,  97,  98,  99, 100, 101, 102, 103,\n",
              "       104, 105, 106, 107, 108, 109, 110, 111, 112, 113, 114, 115, 116,\n",
              "       117, 118, 119, 120, 121, 122, 123, 124, 125, 126, 127, 128, 129,\n",
              "       130, 131, 132, 133, 134, 135, 136, 137, 138, 139, 140, 141, 142,\n",
              "       143, 144, 145, 146, 147, 148, 149, 150, 151, 152, 153, 154, 155,\n",
              "       156, 157, 158, 159, 160, 161, 162, 163, 164, 165, 166, 167, 168,\n",
              "       169, 170, 171, 172, 173, 174, 175, 176, 177, 178, 179, 180, 181,\n",
              "       182, 183, 184, 185, 186, 187, 188, 189, 190, 191, 192, 193, 194,\n",
              "       195, 196, 197, 198, 199, 200, 201, 202, 203, 204, 205, 206, 207,\n",
              "       208, 209, 210, 211, 212, 213, 214, 215, 216, 217, 218, 219, 220,\n",
              "       221, 222, 223, 224, 225, 226, 227, 228, 229, 230, 231, 232, 233,\n",
              "       234, 235, 236, 237, 238, 239, 240, 241, 242, 243, 244, 245, 246,\n",
              "       247, 248, 249, 250, 251, 252, 253, 254, 255, 256, 257, 258, 259,\n",
              "       260, 261])"
            ]
          },
          "metadata": {
            "tags": []
          },
          "execution_count": 12
        }
      ]
    },
    {
      "cell_type": "markdown",
      "metadata": {
        "id": "caeEnyJQzo2B"
      },
      "source": [
        "**Visualizing the Data** \r\n"
      ]
    },
    {
      "cell_type": "code",
      "metadata": {
        "id": "-zjpE-vOwhkD"
      },
      "source": [
        "\n",
        "import matplotlib.pyplot as plt \n",
        "%matplotlib inline"
      ],
      "execution_count": 13,
      "outputs": []
    },
    {
      "cell_type": "code",
      "metadata": {
        "id": "wWIwfgqsK83B",
        "colab": {
          "base_uri": "https://localhost:8080/",
          "height": 284
        },
        "outputId": "f34de5f8-1240-4884-b6b7-e9ef39c1910e"
      },
      "source": [
        "df_subset.groupby('day_name')['workplaces_percent_change_from_baseline'].describe() #the percentage change for weekends is low"
      ],
      "execution_count": 14,
      "outputs": [
        {
          "output_type": "execute_result",
          "data": {
            "text/html": [
              "<div>\n",
              "<style scoped>\n",
              "    .dataframe tbody tr th:only-of-type {\n",
              "        vertical-align: middle;\n",
              "    }\n",
              "\n",
              "    .dataframe tbody tr th {\n",
              "        vertical-align: top;\n",
              "    }\n",
              "\n",
              "    .dataframe thead th {\n",
              "        text-align: right;\n",
              "    }\n",
              "</style>\n",
              "<table border=\"1\" class=\"dataframe\">\n",
              "  <thead>\n",
              "    <tr style=\"text-align: right;\">\n",
              "      <th></th>\n",
              "      <th>count</th>\n",
              "      <th>mean</th>\n",
              "      <th>std</th>\n",
              "      <th>min</th>\n",
              "      <th>25%</th>\n",
              "      <th>50%</th>\n",
              "      <th>75%</th>\n",
              "      <th>max</th>\n",
              "    </tr>\n",
              "    <tr>\n",
              "      <th>day_name</th>\n",
              "      <th></th>\n",
              "      <th></th>\n",
              "      <th></th>\n",
              "      <th></th>\n",
              "      <th></th>\n",
              "      <th></th>\n",
              "      <th></th>\n",
              "      <th></th>\n",
              "    </tr>\n",
              "  </thead>\n",
              "  <tbody>\n",
              "    <tr>\n",
              "      <th>Friday</th>\n",
              "      <td>38.0</td>\n",
              "      <td>-50.368421</td>\n",
              "      <td>14.313896</td>\n",
              "      <td>-79.0</td>\n",
              "      <td>-57.00</td>\n",
              "      <td>-48.0</td>\n",
              "      <td>-40.25</td>\n",
              "      <td>-29.0</td>\n",
              "    </tr>\n",
              "    <tr>\n",
              "      <th>Monday</th>\n",
              "      <td>37.0</td>\n",
              "      <td>-50.918919</td>\n",
              "      <td>13.614491</td>\n",
              "      <td>-78.0</td>\n",
              "      <td>-63.00</td>\n",
              "      <td>-49.0</td>\n",
              "      <td>-41.00</td>\n",
              "      <td>-33.0</td>\n",
              "    </tr>\n",
              "    <tr>\n",
              "      <th>Saturday</th>\n",
              "      <td>37.0</td>\n",
              "      <td>-44.972973</td>\n",
              "      <td>15.653339</td>\n",
              "      <td>-74.0</td>\n",
              "      <td>-55.00</td>\n",
              "      <td>-45.0</td>\n",
              "      <td>-33.00</td>\n",
              "      <td>-20.0</td>\n",
              "    </tr>\n",
              "    <tr>\n",
              "      <th>Sunday</th>\n",
              "      <td>37.0</td>\n",
              "      <td>-26.135135</td>\n",
              "      <td>15.129372</td>\n",
              "      <td>-57.0</td>\n",
              "      <td>-29.00</td>\n",
              "      <td>-23.0</td>\n",
              "      <td>-16.00</td>\n",
              "      <td>-5.0</td>\n",
              "    </tr>\n",
              "    <tr>\n",
              "      <th>Thursday</th>\n",
              "      <td>38.0</td>\n",
              "      <td>-51.000000</td>\n",
              "      <td>14.363994</td>\n",
              "      <td>-79.0</td>\n",
              "      <td>-58.75</td>\n",
              "      <td>-49.0</td>\n",
              "      <td>-39.50</td>\n",
              "      <td>-31.0</td>\n",
              "    </tr>\n",
              "    <tr>\n",
              "      <th>Tuesday</th>\n",
              "      <td>37.0</td>\n",
              "      <td>-50.810811</td>\n",
              "      <td>13.453289</td>\n",
              "      <td>-78.0</td>\n",
              "      <td>-56.00</td>\n",
              "      <td>-49.0</td>\n",
              "      <td>-41.00</td>\n",
              "      <td>-34.0</td>\n",
              "    </tr>\n",
              "    <tr>\n",
              "      <th>Wednesday</th>\n",
              "      <td>38.0</td>\n",
              "      <td>-49.973684</td>\n",
              "      <td>14.887845</td>\n",
              "      <td>-81.0</td>\n",
              "      <td>-60.50</td>\n",
              "      <td>-48.0</td>\n",
              "      <td>-39.25</td>\n",
              "      <td>-30.0</td>\n",
              "    </tr>\n",
              "  </tbody>\n",
              "</table>\n",
              "</div>"
            ],
            "text/plain": [
              "           count       mean        std   min    25%   50%    75%   max\n",
              "day_name                                                              \n",
              "Friday      38.0 -50.368421  14.313896 -79.0 -57.00 -48.0 -40.25 -29.0\n",
              "Monday      37.0 -50.918919  13.614491 -78.0 -63.00 -49.0 -41.00 -33.0\n",
              "Saturday    37.0 -44.972973  15.653339 -74.0 -55.00 -45.0 -33.00 -20.0\n",
              "Sunday      37.0 -26.135135  15.129372 -57.0 -29.00 -23.0 -16.00  -5.0\n",
              "Thursday    38.0 -51.000000  14.363994 -79.0 -58.75 -49.0 -39.50 -31.0\n",
              "Tuesday     37.0 -50.810811  13.453289 -78.0 -56.00 -49.0 -41.00 -34.0\n",
              "Wednesday   38.0 -49.973684  14.887845 -81.0 -60.50 -48.0 -39.25 -30.0"
            ]
          },
          "metadata": {
            "tags": []
          },
          "execution_count": 14
        }
      ]
    },
    {
      "cell_type": "code",
      "metadata": {
        "id": "VBVVOCj7LoUy",
        "colab": {
          "base_uri": "https://localhost:8080/",
          "height": 284
        },
        "outputId": "6059baa5-7e96-44e1-f7fa-5d2782116cd0"
      },
      "source": [
        "df_subset.groupby('day_name')['residential_percent_change_from_baseline'].describe() #the percentage change for weekends is low"
      ],
      "execution_count": 15,
      "outputs": [
        {
          "output_type": "execute_result",
          "data": {
            "text/html": [
              "<div>\n",
              "<style scoped>\n",
              "    .dataframe tbody tr th:only-of-type {\n",
              "        vertical-align: middle;\n",
              "    }\n",
              "\n",
              "    .dataframe tbody tr th {\n",
              "        vertical-align: top;\n",
              "    }\n",
              "\n",
              "    .dataframe thead th {\n",
              "        text-align: right;\n",
              "    }\n",
              "</style>\n",
              "<table border=\"1\" class=\"dataframe\">\n",
              "  <thead>\n",
              "    <tr style=\"text-align: right;\">\n",
              "      <th></th>\n",
              "      <th>count</th>\n",
              "      <th>mean</th>\n",
              "      <th>std</th>\n",
              "      <th>min</th>\n",
              "      <th>25%</th>\n",
              "      <th>50%</th>\n",
              "      <th>75%</th>\n",
              "      <th>max</th>\n",
              "    </tr>\n",
              "    <tr>\n",
              "      <th>day_name</th>\n",
              "      <th></th>\n",
              "      <th></th>\n",
              "      <th></th>\n",
              "      <th></th>\n",
              "      <th></th>\n",
              "      <th></th>\n",
              "      <th></th>\n",
              "      <th></th>\n",
              "    </tr>\n",
              "  </thead>\n",
              "  <tbody>\n",
              "    <tr>\n",
              "      <th>Friday</th>\n",
              "      <td>38.0</td>\n",
              "      <td>23.842105</td>\n",
              "      <td>7.858637</td>\n",
              "      <td>13.0</td>\n",
              "      <td>18.25</td>\n",
              "      <td>22.0</td>\n",
              "      <td>29.25</td>\n",
              "      <td>39.0</td>\n",
              "    </tr>\n",
              "    <tr>\n",
              "      <th>Monday</th>\n",
              "      <td>37.0</td>\n",
              "      <td>22.810811</td>\n",
              "      <td>7.741798</td>\n",
              "      <td>11.0</td>\n",
              "      <td>17.00</td>\n",
              "      <td>21.0</td>\n",
              "      <td>27.00</td>\n",
              "      <td>37.0</td>\n",
              "    </tr>\n",
              "    <tr>\n",
              "      <th>Saturday</th>\n",
              "      <td>37.0</td>\n",
              "      <td>22.027027</td>\n",
              "      <td>7.577329</td>\n",
              "      <td>10.0</td>\n",
              "      <td>17.00</td>\n",
              "      <td>21.0</td>\n",
              "      <td>26.00</td>\n",
              "      <td>36.0</td>\n",
              "    </tr>\n",
              "    <tr>\n",
              "      <th>Sunday</th>\n",
              "      <td>37.0</td>\n",
              "      <td>15.594595</td>\n",
              "      <td>5.833140</td>\n",
              "      <td>6.0</td>\n",
              "      <td>12.00</td>\n",
              "      <td>14.0</td>\n",
              "      <td>19.00</td>\n",
              "      <td>26.0</td>\n",
              "    </tr>\n",
              "    <tr>\n",
              "      <th>Thursday</th>\n",
              "      <td>38.0</td>\n",
              "      <td>23.210526</td>\n",
              "      <td>7.983625</td>\n",
              "      <td>12.0</td>\n",
              "      <td>17.25</td>\n",
              "      <td>22.0</td>\n",
              "      <td>28.50</td>\n",
              "      <td>37.0</td>\n",
              "    </tr>\n",
              "    <tr>\n",
              "      <th>Tuesday</th>\n",
              "      <td>37.0</td>\n",
              "      <td>22.810811</td>\n",
              "      <td>7.534505</td>\n",
              "      <td>12.0</td>\n",
              "      <td>17.00</td>\n",
              "      <td>22.0</td>\n",
              "      <td>27.00</td>\n",
              "      <td>37.0</td>\n",
              "    </tr>\n",
              "    <tr>\n",
              "      <th>Wednesday</th>\n",
              "      <td>38.0</td>\n",
              "      <td>22.710526</td>\n",
              "      <td>8.009818</td>\n",
              "      <td>11.0</td>\n",
              "      <td>17.00</td>\n",
              "      <td>22.0</td>\n",
              "      <td>29.50</td>\n",
              "      <td>37.0</td>\n",
              "    </tr>\n",
              "  </tbody>\n",
              "</table>\n",
              "</div>"
            ],
            "text/plain": [
              "           count       mean       std   min    25%   50%    75%   max\n",
              "day_name                                                             \n",
              "Friday      38.0  23.842105  7.858637  13.0  18.25  22.0  29.25  39.0\n",
              "Monday      37.0  22.810811  7.741798  11.0  17.00  21.0  27.00  37.0\n",
              "Saturday    37.0  22.027027  7.577329  10.0  17.00  21.0  26.00  36.0\n",
              "Sunday      37.0  15.594595  5.833140   6.0  12.00  14.0  19.00  26.0\n",
              "Thursday    38.0  23.210526  7.983625  12.0  17.25  22.0  28.50  37.0\n",
              "Tuesday     37.0  22.810811  7.534505  12.0  17.00  22.0  27.00  37.0\n",
              "Wednesday   38.0  22.710526  8.009818  11.0  17.00  22.0  29.50  37.0"
            ]
          },
          "metadata": {
            "tags": []
          },
          "execution_count": 15
        }
      ]
    },
    {
      "cell_type": "code",
      "metadata": {
        "id": "vQxGQRFkkSwT",
        "colab": {
          "base_uri": "https://localhost:8080/",
          "height": 729
        },
        "outputId": "eae11853-7e11-400a-9246-76cdd347aea0"
      },
      "source": [
        "f = plt.figure(figsize=(10,10))\n",
        "ax1 = f.add_subplot(611)\n",
        "ax2 = f.add_subplot(612)\n",
        "ax3 = f.add_subplot(613)\n",
        "ax4 = f.add_subplot(614)\n",
        "ax5 = f.add_subplot(615)\n",
        "ax6 = f.add_subplot(616)\n",
        "ax1.plot(days_since_lockdown,df_subset['retail_and_recreation_percent_change_from_baseline'])\n",
        "ax1.axhline(y=0,color=\"orange\")\n",
        "ax1.set(xlabel='Days Since Lockdown',ylabel='% Change',title='Retail & recreation')\n",
        "ax2.plot(days_since_lockdown,df_subset['grocery_and_pharmacy_percent_change_from_baseline'])\n",
        "ax2.axhline(y=0,color=\"orange\")\n",
        "ax2.set(xlabel='Days Since Lockdown',ylabel='% Change',title='Grocery & pharmacy')\n",
        "ax3.plot(days_since_lockdown,df_subset['parks_percent_change_from_baseline'])\n",
        "ax3.axhline(y=0,color=\"orange\")\n",
        "ax3.set(xlabel='Days Since Lockdown', ylabel='% Change',title='Parks')\n",
        "ax4.plot(days_since_lockdown,df_subset['transit_stations_percent_change_from_baseline'])\n",
        "ax4.axhline(y=0,color=\"orange\")\n",
        "ax4.set(xlabel='Days Since Lockdown', ylabel='% Change',title='Transit Stations')\n",
        "ax5.plot(days_since_lockdown,df_subset['workplaces_percent_change_from_baseline'])\n",
        "ax5.axhline(y=0,color=\"orange\")\n",
        "ax5.set(xlabel='Days Since Lockdown', ylabel='% Change',title='Workplaces')\n",
        "ax6.plot(days_since_lockdown,df_subset['residential_percent_change_from_baseline'])\n",
        "ax6.axhline(y=0,color=\"orange\")\n",
        "ax6.set(xlabel='Days Since Lockdown', ylabel='% Change',title='Residential')\n",
        "f.tight_layout()"
      ],
      "execution_count": 16,
      "outputs": [
        {
          "output_type": "display_data",
          "data": {
            "image/png": "[encoded data removed]",
            "text/plain": [
              "<Figure size 720x720 with 6 Axes>"
            ]
          },
          "metadata": {
            "tags": [],
            "needs_background": "light"
          }
        }
      ]
    }
  ]
}